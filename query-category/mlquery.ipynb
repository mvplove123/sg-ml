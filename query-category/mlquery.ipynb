{
 "cells": [
  {
   "cell_type": "code",
   "execution_count": 1,
   "metadata": {
    "collapsed": false
   },
   "outputs": [],
   "source": [
    "import pandas as pd\n",
    "import numpy as np\n",
    "from pandas import DataFrame,Series\n",
    "import sklearn.feature_extraction\n",
    "import sklearn.naive_bayes as nb\n",
    "import sklearn.externals.joblib as jl\n",
    "import jieba\n",
    "from sklearn.feature_extraction.text import TfidfVectorizer\n",
    "from sklearn.model_selection import train_test_split\n",
    "from sklearn.feature_extraction.text import CountVectorizer \n",
    "from sklearn.feature_extraction.text import TfidfTransformer\n",
    "import csv\n",
    "from sklearn.feature_selection import chi2\n",
    "from sklearn.feature_selection import SelectKBest\n",
    "import matplotlib.pyplot as plt\n",
    "from wordcloud import WordCloud,ImageColorGenerator,STOPWORDS\n",
    "from PIL import Image\n",
    "from sklearn import svm"
   ]
  },
  {
   "cell_type": "code",
   "execution_count": 1,
   "metadata": {
    "collapsed": true
   },
   "outputs": [
    {
     "ename": "NameError",
     "evalue": "name 'pd' is not defined",
     "traceback": [
      "\u001b[0;31m---------------------------------------------------------------------------\u001b[0m",
      "\u001b[0;31mNameError\u001b[0m                                 Traceback (most recent call last)",
      "\u001b[0;32m<ipython-input-1-546826b97858>\u001b[0m in \u001b[0;36m<module>\u001b[0;34m()\u001b[0m\n\u001b[0;32m----> 1\u001b[0;31m \u001b[0mdf\u001b[0m \u001b[1;33m=\u001b[0m \u001b[0mpd\u001b[0m\u001b[1;33m.\u001b[0m\u001b[0mread_csv\u001b[0m\u001b[1;33m(\u001b[0m\u001b[1;34m'D:\\projectlist\\logquery\\\\train_data'\u001b[0m\u001b[1;33m,\u001b[0m\u001b[0msep\u001b[0m\u001b[1;33m=\u001b[0m\u001b[1;34m'\\t'\u001b[0m\u001b[1;33m,\u001b[0m\u001b[0mnames\u001b[0m\u001b[1;33m=\u001b[0m\u001b[1;33m[\u001b[0m\u001b[1;34m'label'\u001b[0m\u001b[1;33m,\u001b[0m\u001b[1;34m'query'\u001b[0m\u001b[1;33m,\u001b[0m\u001b[1;34m'city'\u001b[0m\u001b[1;33m,\u001b[0m\u001b[1;34m'query_count'\u001b[0m\u001b[1;33m,\u001b[0m\u001b[1;34m'is_off'\u001b[0m\u001b[1;33m,\u001b[0m\u001b[1;34m'max_category_rate'\u001b[0m\u001b[1;33m,\u001b[0m\u001b[1;34m'unique_poi_rate'\u001b[0m\u001b[1;33m,\u001b[0m\u001b[1;34m'is_filter'\u001b[0m\u001b[1;33m]\u001b[0m\u001b[1;33m,\u001b[0m\u001b[0mencoding\u001b[0m\u001b[1;33m=\u001b[0m\u001b[1;34m'gb18030'\u001b[0m\u001b[1;33m)\u001b[0m\u001b[1;33m\u001b[0m\u001b[0m\n\u001b[0m",
      "\u001b[0;31mNameError\u001b[0m: name 'pd' is not defined"
     ],
     "output_type": "error"
    }
   ],
   "source": [
    "df = pd.read_csv('D:\\projectlist\\logquery\\\\train_data',sep='\\t',names=['label','query','city','query_count','is_off','max_category_rate','unique_poi_rate','is_filter'],encoding='gb18030')"
   ]
  },
  {
   "cell_type": "code",
   "execution_count": 657,
   "metadata": {
    "collapsed": true
   },
   "outputs": [],
   "source": [
    "train1, test1 = train_test_split(df.ix[df['label'] ==1,:], train_size  = 500)\n",
    "train2, test2 = train_test_split(df.ix[df['label'] ==2,:], train_size  = 500)\n",
    "train3, test3 = train_test_split(df.ix[df['label'] ==3,:], train_size  = 500)\n",
    "train = train1.append(train2).append(train3)\n",
    "test = test1.append(test2).append(test3)"
   ]
  },
  {
   "cell_type": "code",
   "execution_count": 658,
   "metadata": {
    "collapsed": false
   },
   "outputs": [],
   "source": [
    "train_chi_X_tfidf = train.iloc[:,4:7].values\n",
    "train_y = train['label'].values\n",
    "test_X = test.iloc[:,4:7].values\n",
    "test_y = test['label'].values"
   ]
  },
  {
   "cell_type": "code",
   "execution_count": 684,
   "metadata": {
    "collapsed": true
   },
   "outputs": [],
   "source": [
    "from sklearn.svm import LinearSVC\n",
    "clf = LinearSVC(penalty=\"l2\", dual=False,tol=1e-4)"
   ]
  },
  {
   "cell_type": "code",
   "execution_count": 685,
   "metadata": {
    "collapsed": false
   },
   "outputs": [
    {
     "data": {
      "text/plain": [
       "LinearSVC(C=1.0, class_weight=None, dual=False, fit_intercept=True,\n",
       "     intercept_scaling=1, loss='squared_hinge', max_iter=1000,\n",
       "     multi_class='ovr', penalty='l2', random_state=None, tol=0.0001,\n",
       "     verbose=0)"
      ]
     },
     "execution_count": 685,
     "metadata": {},
     "output_type": "execute_result"
    }
   ],
   "source": [
    "clf.fit(train_chi_X_tfidf, train_y)"
   ]
  },
  {
   "cell_type": "code",
   "execution_count": 686,
   "metadata": {
    "collapsed": false
   },
   "outputs": [
    {
     "data": {
      "text/plain": [
       "0.8112189439734192"
      ]
     },
     "execution_count": 686,
     "metadata": {},
     "output_type": "execute_result"
    }
   ],
   "source": [
    "clf.score(test_X,test_y)"
   ]
  },
  {
   "cell_type": "code",
   "execution_count": 687,
   "metadata": {
    "collapsed": false
   },
   "outputs": [
    {
     "data": {
      "text/plain": [
       "array([2, 2, 1, ..., 3, 3, 3], dtype=int64)"
      ]
     },
     "execution_count": 687,
     "metadata": {},
     "output_type": "execute_result"
    }
   ],
   "source": [
    "clf.predict(test_X)"
   ]
  },
  {
   "cell_type": "code",
   "execution_count": 690,
   "metadata": {
    "collapsed": false
   },
   "outputs": [
    {
     "data": {
      "text/plain": [
       "array([3], dtype=int64)"
      ]
     },
     "execution_count": 690,
     "metadata": {},
     "output_type": "execute_result"
    }
   ],
   "source": [
    "sinle_test=df.ix[df['query']=='中关村移动',4:7].values\n",
    "clf.predict(sinle_test)"
   ]
  },
  {
   "cell_type": "code",
   "execution_count": 689,
   "metadata": {
    "collapsed": false
   },
   "outputs": [
    {
     "data": {
      "text/html": [
       "<div>\n",
       "<table border=\"1\" class=\"dataframe\">\n",
       "  <thead>\n",
       "    <tr style=\"text-align: right;\">\n",
       "      <th></th>\n",
       "      <th>is_off</th>\n",
       "      <th>max_category_rate</th>\n",
       "      <th>unique_poi_rate</th>\n",
       "    </tr>\n",
       "  </thead>\n",
       "  <tbody>\n",
       "  </tbody>\n",
       "</table>\n",
       "</div>"
      ],
      "text/plain": [
       "Empty DataFrame\n",
       "Columns: [is_off, max_category_rate, unique_poi_rate]\n",
       "Index: []"
      ]
     },
     "execution_count": 689,
     "metadata": {},
     "output_type": "execute_result"
    }
   ],
   "source": [
    "train.ix[df['query']=='中国移动通信沟通100',4:7]"
   ]
  },
  {
   "cell_type": "code",
   "execution_count": 683,
   "metadata": {
    "collapsed": false
   },
   "outputs": [
    {
     "data": {
      "text/html": [
       "<div>\n",
       "<table border=\"1\" class=\"dataframe\">\n",
       "  <thead>\n",
       "    <tr style=\"text-align: right;\">\n",
       "      <th></th>\n",
       "      <th>label</th>\n",
       "      <th>query</th>\n",
       "      <th>city</th>\n",
       "      <th>query_count</th>\n",
       "      <th>is_off</th>\n",
       "      <th>max_category_rate</th>\n",
       "      <th>unique_poi_rate</th>\n",
       "      <th>is_filter</th>\n",
       "    </tr>\n",
       "  </thead>\n",
       "  <tbody>\n",
       "    <tr>\n",
       "      <th>13466</th>\n",
       "      <td>1</td>\n",
       "      <td>上海雷普电气有限公司</td>\n",
       "      <td>上海市</td>\n",
       "      <td>16</td>\n",
       "      <td>0</td>\n",
       "      <td>1.00</td>\n",
       "      <td>1.00</td>\n",
       "      <td>0</td>\n",
       "    </tr>\n",
       "    <tr>\n",
       "      <th>12985</th>\n",
       "      <td>1</td>\n",
       "      <td>腔调面</td>\n",
       "      <td>上海市</td>\n",
       "      <td>16</td>\n",
       "      <td>1</td>\n",
       "      <td>1.00</td>\n",
       "      <td>1.00</td>\n",
       "      <td>0</td>\n",
       "    </tr>\n",
       "    <tr>\n",
       "      <th>6269</th>\n",
       "      <td>1</td>\n",
       "      <td>园林机械</td>\n",
       "      <td>北京市</td>\n",
       "      <td>16</td>\n",
       "      <td>0</td>\n",
       "      <td>1.00</td>\n",
       "      <td>0.25</td>\n",
       "      <td>0</td>\n",
       "    </tr>\n",
       "    <tr>\n",
       "      <th>2463</th>\n",
       "      <td>1</td>\n",
       "      <td>世纪华联便利超市</td>\n",
       "      <td>北京市</td>\n",
       "      <td>16</td>\n",
       "      <td>1</td>\n",
       "      <td>1.00</td>\n",
       "      <td>1.00</td>\n",
       "      <td>0</td>\n",
       "    </tr>\n",
       "    <tr>\n",
       "      <th>3480</th>\n",
       "      <td>1</td>\n",
       "      <td>银行北京银行</td>\n",
       "      <td>北京市</td>\n",
       "      <td>43</td>\n",
       "      <td>0</td>\n",
       "      <td>1.00</td>\n",
       "      <td>1.00</td>\n",
       "      <td>0</td>\n",
       "    </tr>\n",
       "    <tr>\n",
       "      <th>1654</th>\n",
       "      <td>1</td>\n",
       "      <td>大鲁店德邦物流</td>\n",
       "      <td>北京市</td>\n",
       "      <td>16</td>\n",
       "      <td>1</td>\n",
       "      <td>0.90</td>\n",
       "      <td>1.00</td>\n",
       "      <td>0</td>\n",
       "    </tr>\n",
       "    <tr>\n",
       "      <th>13990</th>\n",
       "      <td>1</td>\n",
       "      <td>零距离网吧</td>\n",
       "      <td>广州市</td>\n",
       "      <td>16</td>\n",
       "      <td>0</td>\n",
       "      <td>1.00</td>\n",
       "      <td>1.00</td>\n",
       "      <td>0</td>\n",
       "    </tr>\n",
       "    <tr>\n",
       "      <th>3652</th>\n",
       "      <td>1</td>\n",
       "      <td>农业银行自助取款机</td>\n",
       "      <td>深圳市</td>\n",
       "      <td>24</td>\n",
       "      <td>0</td>\n",
       "      <td>1.00</td>\n",
       "      <td>0.80</td>\n",
       "      <td>0</td>\n",
       "    </tr>\n",
       "    <tr>\n",
       "      <th>3274</th>\n",
       "      <td>1</td>\n",
       "      <td>水晶主题酒店</td>\n",
       "      <td>北京市</td>\n",
       "      <td>16</td>\n",
       "      <td>1</td>\n",
       "      <td>0.55</td>\n",
       "      <td>1.00</td>\n",
       "      <td>0</td>\n",
       "    </tr>\n",
       "    <tr>\n",
       "      <th>9086</th>\n",
       "      <td>1</td>\n",
       "      <td>蔬菜大卖场</td>\n",
       "      <td>上海市</td>\n",
       "      <td>16</td>\n",
       "      <td>0</td>\n",
       "      <td>1.00</td>\n",
       "      <td>0.63</td>\n",
       "      <td>0</td>\n",
       "    </tr>\n",
       "    <tr>\n",
       "      <th>9707</th>\n",
       "      <td>1</td>\n",
       "      <td>春亮麻辣烫</td>\n",
       "      <td>北京市</td>\n",
       "      <td>32</td>\n",
       "      <td>0</td>\n",
       "      <td>1.00</td>\n",
       "      <td>1.00</td>\n",
       "      <td>0</td>\n",
       "    </tr>\n",
       "    <tr>\n",
       "      <th>5483</th>\n",
       "      <td>1</td>\n",
       "      <td>捷妮璐</td>\n",
       "      <td>北京市</td>\n",
       "      <td>16</td>\n",
       "      <td>0</td>\n",
       "      <td>0.92</td>\n",
       "      <td>1.00</td>\n",
       "      <td>0</td>\n",
       "    </tr>\n",
       "    <tr>\n",
       "      <th>13284</th>\n",
       "      <td>1</td>\n",
       "      <td>老北京果木烤鸭</td>\n",
       "      <td>上海市</td>\n",
       "      <td>16</td>\n",
       "      <td>0</td>\n",
       "      <td>1.00</td>\n",
       "      <td>0.90</td>\n",
       "      <td>0</td>\n",
       "    </tr>\n",
       "    <tr>\n",
       "      <th>1098</th>\n",
       "      <td>1</td>\n",
       "      <td>工商银行松江</td>\n",
       "      <td>上海市</td>\n",
       "      <td>11</td>\n",
       "      <td>0</td>\n",
       "      <td>0.95</td>\n",
       "      <td>1.00</td>\n",
       "      <td>0</td>\n",
       "    </tr>\n",
       "    <tr>\n",
       "      <th>3135</th>\n",
       "      <td>1</td>\n",
       "      <td>通州卫生</td>\n",
       "      <td>北京市</td>\n",
       "      <td>16</td>\n",
       "      <td>0</td>\n",
       "      <td>0.50</td>\n",
       "      <td>0.95</td>\n",
       "      <td>0</td>\n",
       "    </tr>\n",
       "    <tr>\n",
       "      <th>12727</th>\n",
       "      <td>1</td>\n",
       "      <td>上海全进骑马场</td>\n",
       "      <td>上海市</td>\n",
       "      <td>16</td>\n",
       "      <td>1</td>\n",
       "      <td>1.00</td>\n",
       "      <td>1.00</td>\n",
       "      <td>0</td>\n",
       "    </tr>\n",
       "    <tr>\n",
       "      <th>2955</th>\n",
       "      <td>1</td>\n",
       "      <td>大荣成</td>\n",
       "      <td>上海市</td>\n",
       "      <td>16</td>\n",
       "      <td>1</td>\n",
       "      <td>0.70</td>\n",
       "      <td>0.30</td>\n",
       "      <td>0</td>\n",
       "    </tr>\n",
       "    <tr>\n",
       "      <th>6095</th>\n",
       "      <td>1</td>\n",
       "      <td>联昊</td>\n",
       "      <td>广州市</td>\n",
       "      <td>24</td>\n",
       "      <td>0</td>\n",
       "      <td>0.95</td>\n",
       "      <td>0.50</td>\n",
       "      <td>0</td>\n",
       "    </tr>\n",
       "    <tr>\n",
       "      <th>2358</th>\n",
       "      <td>1</td>\n",
       "      <td>大鸭梨</td>\n",
       "      <td>北京市</td>\n",
       "      <td>2744</td>\n",
       "      <td>0</td>\n",
       "      <td>1.00</td>\n",
       "      <td>1.00</td>\n",
       "      <td>0</td>\n",
       "    </tr>\n",
       "    <tr>\n",
       "      <th>13146</th>\n",
       "      <td>1</td>\n",
       "      <td>长恩</td>\n",
       "      <td>上海市</td>\n",
       "      <td>16</td>\n",
       "      <td>0</td>\n",
       "      <td>1.00</td>\n",
       "      <td>1.00</td>\n",
       "      <td>0</td>\n",
       "    </tr>\n",
       "    <tr>\n",
       "      <th>569</th>\n",
       "      <td>1</td>\n",
       "      <td>s顺丰快递</td>\n",
       "      <td>上海市</td>\n",
       "      <td>16</td>\n",
       "      <td>0</td>\n",
       "      <td>1.00</td>\n",
       "      <td>1.00</td>\n",
       "      <td>0</td>\n",
       "    </tr>\n",
       "    <tr>\n",
       "      <th>12639</th>\n",
       "      <td>1</td>\n",
       "      <td>鸿祥公寓</td>\n",
       "      <td>北京市</td>\n",
       "      <td>16</td>\n",
       "      <td>0</td>\n",
       "      <td>1.00</td>\n",
       "      <td>1.00</td>\n",
       "      <td>0</td>\n",
       "    </tr>\n",
       "    <tr>\n",
       "      <th>9732</th>\n",
       "      <td>1</td>\n",
       "      <td>百强家具</td>\n",
       "      <td>北京市</td>\n",
       "      <td>32</td>\n",
       "      <td>0</td>\n",
       "      <td>0.88</td>\n",
       "      <td>0.65</td>\n",
       "      <td>0</td>\n",
       "    </tr>\n",
       "    <tr>\n",
       "      <th>5400</th>\n",
       "      <td>1</td>\n",
       "      <td>有璟阁餐厅</td>\n",
       "      <td>北京市</td>\n",
       "      <td>133</td>\n",
       "      <td>0</td>\n",
       "      <td>1.00</td>\n",
       "      <td>0.83</td>\n",
       "      <td>0</td>\n",
       "    </tr>\n",
       "    <tr>\n",
       "      <th>14449</th>\n",
       "      <td>1</td>\n",
       "      <td>光彩口腔</td>\n",
       "      <td>北京市</td>\n",
       "      <td>13</td>\n",
       "      <td>0</td>\n",
       "      <td>1.00</td>\n",
       "      <td>1.00</td>\n",
       "      <td>0</td>\n",
       "    </tr>\n",
       "    <tr>\n",
       "      <th>10305</th>\n",
       "      <td>1</td>\n",
       "      <td>沙井汽车</td>\n",
       "      <td>广州市</td>\n",
       "      <td>27</td>\n",
       "      <td>0</td>\n",
       "      <td>1.00</td>\n",
       "      <td>0.67</td>\n",
       "      <td>0</td>\n",
       "    </tr>\n",
       "    <tr>\n",
       "      <th>8765</th>\n",
       "      <td>1</td>\n",
       "      <td>三里河物美</td>\n",
       "      <td>北京市</td>\n",
       "      <td>10</td>\n",
       "      <td>0</td>\n",
       "      <td>1.00</td>\n",
       "      <td>1.00</td>\n",
       "      <td>0</td>\n",
       "    </tr>\n",
       "    <tr>\n",
       "      <th>14350</th>\n",
       "      <td>1</td>\n",
       "      <td>家简陈厨</td>\n",
       "      <td>深圳市</td>\n",
       "      <td>16</td>\n",
       "      <td>0</td>\n",
       "      <td>1.00</td>\n",
       "      <td>1.00</td>\n",
       "      <td>0</td>\n",
       "    </tr>\n",
       "    <tr>\n",
       "      <th>193</th>\n",
       "      <td>1</td>\n",
       "      <td>航东路如家</td>\n",
       "      <td>上海市</td>\n",
       "      <td>16</td>\n",
       "      <td>0</td>\n",
       "      <td>1.00</td>\n",
       "      <td>1.00</td>\n",
       "      <td>0</td>\n",
       "    </tr>\n",
       "    <tr>\n",
       "      <th>13526</th>\n",
       "      <td>1</td>\n",
       "      <td>passtyle</td>\n",
       "      <td>上海市</td>\n",
       "      <td>16</td>\n",
       "      <td>0</td>\n",
       "      <td>1.00</td>\n",
       "      <td>0.75</td>\n",
       "      <td>0</td>\n",
       "    </tr>\n",
       "    <tr>\n",
       "      <th>...</th>\n",
       "      <td>...</td>\n",
       "      <td>...</td>\n",
       "      <td>...</td>\n",
       "      <td>...</td>\n",
       "      <td>...</td>\n",
       "      <td>...</td>\n",
       "      <td>...</td>\n",
       "      <td>...</td>\n",
       "    </tr>\n",
       "    <tr>\n",
       "      <th>140331</th>\n",
       "      <td>3</td>\n",
       "      <td>北京西站南广场舞</td>\n",
       "      <td>北京市</td>\n",
       "      <td>16</td>\n",
       "      <td>1</td>\n",
       "      <td>0.60</td>\n",
       "      <td>0.85</td>\n",
       "      <td>1</td>\n",
       "    </tr>\n",
       "    <tr>\n",
       "      <th>201332</th>\n",
       "      <td>3</td>\n",
       "      <td>北京市第五中</td>\n",
       "      <td>北京市</td>\n",
       "      <td>24</td>\n",
       "      <td>1</td>\n",
       "      <td>0.35</td>\n",
       "      <td>1.00</td>\n",
       "      <td>0</td>\n",
       "    </tr>\n",
       "    <tr>\n",
       "      <th>169680</th>\n",
       "      <td>3</td>\n",
       "      <td>十几斤</td>\n",
       "      <td>北京市</td>\n",
       "      <td>56</td>\n",
       "      <td>1</td>\n",
       "      <td>0.45</td>\n",
       "      <td>0.90</td>\n",
       "      <td>0</td>\n",
       "    </tr>\n",
       "    <tr>\n",
       "      <th>30393</th>\n",
       "      <td>3</td>\n",
       "      <td>朱岗</td>\n",
       "      <td>北京市</td>\n",
       "      <td>17</td>\n",
       "      <td>1</td>\n",
       "      <td>0.30</td>\n",
       "      <td>1.00</td>\n",
       "      <td>0</td>\n",
       "    </tr>\n",
       "    <tr>\n",
       "      <th>268292</th>\n",
       "      <td>3</td>\n",
       "      <td>涧头村</td>\n",
       "      <td>北京市</td>\n",
       "      <td>130</td>\n",
       "      <td>1</td>\n",
       "      <td>0.20</td>\n",
       "      <td>1.00</td>\n",
       "      <td>1</td>\n",
       "    </tr>\n",
       "    <tr>\n",
       "      <th>32947</th>\n",
       "      <td>3</td>\n",
       "      <td>丽都假日</td>\n",
       "      <td>北京市</td>\n",
       "      <td>18</td>\n",
       "      <td>1</td>\n",
       "      <td>0.33</td>\n",
       "      <td>1.00</td>\n",
       "      <td>0</td>\n",
       "    </tr>\n",
       "    <tr>\n",
       "      <th>282176</th>\n",
       "      <td>3</td>\n",
       "      <td>北京西火车站</td>\n",
       "      <td>北京市</td>\n",
       "      <td>286</td>\n",
       "      <td>1</td>\n",
       "      <td>0.90</td>\n",
       "      <td>1.00</td>\n",
       "      <td>1</td>\n",
       "    </tr>\n",
       "    <tr>\n",
       "      <th>257262</th>\n",
       "      <td>3</td>\n",
       "      <td>上地科贸大厦</td>\n",
       "      <td>北京市</td>\n",
       "      <td>14</td>\n",
       "      <td>1</td>\n",
       "      <td>0.25</td>\n",
       "      <td>1.00</td>\n",
       "      <td>1</td>\n",
       "    </tr>\n",
       "    <tr>\n",
       "      <th>142981</th>\n",
       "      <td>3</td>\n",
       "      <td>南苑机厂</td>\n",
       "      <td>北京市</td>\n",
       "      <td>10</td>\n",
       "      <td>1</td>\n",
       "      <td>0.50</td>\n",
       "      <td>1.00</td>\n",
       "      <td>1</td>\n",
       "    </tr>\n",
       "    <tr>\n",
       "      <th>39939</th>\n",
       "      <td>3</td>\n",
       "      <td>窦店镇政府</td>\n",
       "      <td>北京市</td>\n",
       "      <td>91</td>\n",
       "      <td>1</td>\n",
       "      <td>0.28</td>\n",
       "      <td>1.00</td>\n",
       "      <td>0</td>\n",
       "    </tr>\n",
       "    <tr>\n",
       "      <th>302051</th>\n",
       "      <td>3</td>\n",
       "      <td>北京站__北京西</td>\n",
       "      <td>北京市</td>\n",
       "      <td>16</td>\n",
       "      <td>0</td>\n",
       "      <td>0.80</td>\n",
       "      <td>1.00</td>\n",
       "      <td>1</td>\n",
       "    </tr>\n",
       "    <tr>\n",
       "      <th>133946</th>\n",
       "      <td>3</td>\n",
       "      <td>通惠小区</td>\n",
       "      <td>北京市</td>\n",
       "      <td>18</td>\n",
       "      <td>1</td>\n",
       "      <td>0.45</td>\n",
       "      <td>0.95</td>\n",
       "      <td>0</td>\n",
       "    </tr>\n",
       "    <tr>\n",
       "      <th>39929</th>\n",
       "      <td>3</td>\n",
       "      <td>石景山区衙门口旧货</td>\n",
       "      <td>北京市</td>\n",
       "      <td>16</td>\n",
       "      <td>1</td>\n",
       "      <td>0.31</td>\n",
       "      <td>1.00</td>\n",
       "      <td>0</td>\n",
       "    </tr>\n",
       "    <tr>\n",
       "      <th>65912</th>\n",
       "      <td>3</td>\n",
       "      <td>北京奥特莱斯</td>\n",
       "      <td>北京市</td>\n",
       "      <td>61</td>\n",
       "      <td>0</td>\n",
       "      <td>0.85</td>\n",
       "      <td>1.00</td>\n",
       "      <td>0</td>\n",
       "    </tr>\n",
       "    <tr>\n",
       "      <th>98474</th>\n",
       "      <td>3</td>\n",
       "      <td>北京市建设职工大学</td>\n",
       "      <td>北京市</td>\n",
       "      <td>112</td>\n",
       "      <td>1</td>\n",
       "      <td>1.00</td>\n",
       "      <td>1.00</td>\n",
       "      <td>0</td>\n",
       "    </tr>\n",
       "    <tr>\n",
       "      <th>197192</th>\n",
       "      <td>3</td>\n",
       "      <td>长远天地</td>\n",
       "      <td>北京市</td>\n",
       "      <td>272</td>\n",
       "      <td>1</td>\n",
       "      <td>0.40</td>\n",
       "      <td>1.00</td>\n",
       "      <td>0</td>\n",
       "    </tr>\n",
       "    <tr>\n",
       "      <th>153247</th>\n",
       "      <td>3</td>\n",
       "      <td>天意小商品批发</td>\n",
       "      <td>北京市</td>\n",
       "      <td>26</td>\n",
       "      <td>1</td>\n",
       "      <td>0.60</td>\n",
       "      <td>1.00</td>\n",
       "      <td>0</td>\n",
       "    </tr>\n",
       "    <tr>\n",
       "      <th>54685</th>\n",
       "      <td>3</td>\n",
       "      <td>京津塘高速</td>\n",
       "      <td>北京市</td>\n",
       "      <td>88</td>\n",
       "      <td>1</td>\n",
       "      <td>0.45</td>\n",
       "      <td>0.85</td>\n",
       "      <td>1</td>\n",
       "    </tr>\n",
       "    <tr>\n",
       "      <th>224227</th>\n",
       "      <td>3</td>\n",
       "      <td>花水湾宾馆</td>\n",
       "      <td>北京市</td>\n",
       "      <td>16</td>\n",
       "      <td>1</td>\n",
       "      <td>0.50</td>\n",
       "      <td>1.00</td>\n",
       "      <td>0</td>\n",
       "    </tr>\n",
       "    <tr>\n",
       "      <th>221827</th>\n",
       "      <td>3</td>\n",
       "      <td>过早MORNING</td>\n",
       "      <td>北京市</td>\n",
       "      <td>12</td>\n",
       "      <td>1</td>\n",
       "      <td>1.00</td>\n",
       "      <td>1.00</td>\n",
       "      <td>0</td>\n",
       "    </tr>\n",
       "    <tr>\n",
       "      <th>105707</th>\n",
       "      <td>3</td>\n",
       "      <td>北京通州工业开发区</td>\n",
       "      <td>北京市</td>\n",
       "      <td>16</td>\n",
       "      <td>1</td>\n",
       "      <td>0.70</td>\n",
       "      <td>1.00</td>\n",
       "      <td>0</td>\n",
       "    </tr>\n",
       "    <tr>\n",
       "      <th>307229</th>\n",
       "      <td>3</td>\n",
       "      <td>北京谷</td>\n",
       "      <td>北京市</td>\n",
       "      <td>16</td>\n",
       "      <td>1</td>\n",
       "      <td>0.20</td>\n",
       "      <td>0.75</td>\n",
       "      <td>0</td>\n",
       "    </tr>\n",
       "    <tr>\n",
       "      <th>186022</th>\n",
       "      <td>3</td>\n",
       "      <td>金地中心</td>\n",
       "      <td>北京市</td>\n",
       "      <td>426</td>\n",
       "      <td>1</td>\n",
       "      <td>0.30</td>\n",
       "      <td>0.95</td>\n",
       "      <td>0</td>\n",
       "    </tr>\n",
       "    <tr>\n",
       "      <th>120937</th>\n",
       "      <td>3</td>\n",
       "      <td>东铁匠营二小</td>\n",
       "      <td>北京市</td>\n",
       "      <td>16</td>\n",
       "      <td>1</td>\n",
       "      <td>1.00</td>\n",
       "      <td>1.00</td>\n",
       "      <td>0</td>\n",
       "    </tr>\n",
       "    <tr>\n",
       "      <th>198117</th>\n",
       "      <td>3</td>\n",
       "      <td>怡和阳光</td>\n",
       "      <td>北京市</td>\n",
       "      <td>34</td>\n",
       "      <td>1</td>\n",
       "      <td>0.30</td>\n",
       "      <td>1.00</td>\n",
       "      <td>1</td>\n",
       "    </tr>\n",
       "    <tr>\n",
       "      <th>151069</th>\n",
       "      <td>3</td>\n",
       "      <td>朝阳万达</td>\n",
       "      <td>北京市</td>\n",
       "      <td>42</td>\n",
       "      <td>1</td>\n",
       "      <td>0.35</td>\n",
       "      <td>1.00</td>\n",
       "      <td>0</td>\n",
       "    </tr>\n",
       "    <tr>\n",
       "      <th>291300</th>\n",
       "      <td>3</td>\n",
       "      <td>北京南站南进口</td>\n",
       "      <td>北京市</td>\n",
       "      <td>137</td>\n",
       "      <td>1</td>\n",
       "      <td>0.90</td>\n",
       "      <td>1.00</td>\n",
       "      <td>1</td>\n",
       "    </tr>\n",
       "    <tr>\n",
       "      <th>111131</th>\n",
       "      <td>3</td>\n",
       "      <td>天雅五金机电城</td>\n",
       "      <td>北京市</td>\n",
       "      <td>51</td>\n",
       "      <td>1</td>\n",
       "      <td>0.65</td>\n",
       "      <td>1.00</td>\n",
       "      <td>0</td>\n",
       "    </tr>\n",
       "    <tr>\n",
       "      <th>119463</th>\n",
       "      <td>3</td>\n",
       "      <td>月坛大厦</td>\n",
       "      <td>北京市</td>\n",
       "      <td>430</td>\n",
       "      <td>1</td>\n",
       "      <td>0.30</td>\n",
       "      <td>1.00</td>\n",
       "      <td>0</td>\n",
       "    </tr>\n",
       "    <tr>\n",
       "      <th>98092</th>\n",
       "      <td>3</td>\n",
       "      <td>海户路西罗园</td>\n",
       "      <td>北京市</td>\n",
       "      <td>24</td>\n",
       "      <td>0</td>\n",
       "      <td>0.40</td>\n",
       "      <td>0.95</td>\n",
       "      <td>0</td>\n",
       "    </tr>\n",
       "  </tbody>\n",
       "</table>\n",
       "<p>308193 rows × 8 columns</p>\n",
       "</div>"
      ],
      "text/plain": [
       "        label       query city  query_count  is_off  max_category_rate  \\\n",
       "13466       1  上海雷普电气有限公司  上海市           16       0               1.00   \n",
       "12985       1         腔调面  上海市           16       1               1.00   \n",
       "6269        1        园林机械  北京市           16       0               1.00   \n",
       "2463        1    世纪华联便利超市  北京市           16       1               1.00   \n",
       "3480        1      银行北京银行  北京市           43       0               1.00   \n",
       "1654        1     大鲁店德邦物流  北京市           16       1               0.90   \n",
       "13990       1       零距离网吧  广州市           16       0               1.00   \n",
       "3652        1   农业银行自助取款机  深圳市           24       0               1.00   \n",
       "3274        1      水晶主题酒店  北京市           16       1               0.55   \n",
       "9086        1       蔬菜大卖场  上海市           16       0               1.00   \n",
       "9707        1       春亮麻辣烫  北京市           32       0               1.00   \n",
       "5483        1         捷妮璐  北京市           16       0               0.92   \n",
       "13284       1     老北京果木烤鸭  上海市           16       0               1.00   \n",
       "1098        1      工商银行松江  上海市           11       0               0.95   \n",
       "3135        1        通州卫生  北京市           16       0               0.50   \n",
       "12727       1     上海全进骑马场  上海市           16       1               1.00   \n",
       "2955        1         大荣成  上海市           16       1               0.70   \n",
       "6095        1          联昊  广州市           24       0               0.95   \n",
       "2358        1         大鸭梨  北京市         2744       0               1.00   \n",
       "13146       1          长恩  上海市           16       0               1.00   \n",
       "569         1       s顺丰快递  上海市           16       0               1.00   \n",
       "12639       1        鸿祥公寓  北京市           16       0               1.00   \n",
       "9732        1        百强家具  北京市           32       0               0.88   \n",
       "5400        1       有璟阁餐厅  北京市          133       0               1.00   \n",
       "14449       1        光彩口腔  北京市           13       0               1.00   \n",
       "10305       1        沙井汽车  广州市           27       0               1.00   \n",
       "8765        1       三里河物美  北京市           10       0               1.00   \n",
       "14350       1        家简陈厨  深圳市           16       0               1.00   \n",
       "193         1       航东路如家  上海市           16       0               1.00   \n",
       "13526       1    passtyle  上海市           16       0               1.00   \n",
       "...       ...         ...  ...          ...     ...                ...   \n",
       "140331      3    北京西站南广场舞  北京市           16       1               0.60   \n",
       "201332      3      北京市第五中  北京市           24       1               0.35   \n",
       "169680      3         十几斤  北京市           56       1               0.45   \n",
       "30393       3          朱岗  北京市           17       1               0.30   \n",
       "268292      3         涧头村  北京市          130       1               0.20   \n",
       "32947       3        丽都假日  北京市           18       1               0.33   \n",
       "282176      3      北京西火车站  北京市          286       1               0.90   \n",
       "257262      3      上地科贸大厦  北京市           14       1               0.25   \n",
       "142981      3        南苑机厂  北京市           10       1               0.50   \n",
       "39939       3       窦店镇政府  北京市           91       1               0.28   \n",
       "302051      3    北京站__北京西  北京市           16       0               0.80   \n",
       "133946      3        通惠小区  北京市           18       1               0.45   \n",
       "39929       3   石景山区衙门口旧货  北京市           16       1               0.31   \n",
       "65912       3      北京奥特莱斯  北京市           61       0               0.85   \n",
       "98474       3   北京市建设职工大学  北京市          112       1               1.00   \n",
       "197192      3        长远天地  北京市          272       1               0.40   \n",
       "153247      3     天意小商品批发  北京市           26       1               0.60   \n",
       "54685       3       京津塘高速  北京市           88       1               0.45   \n",
       "224227      3       花水湾宾馆  北京市           16       1               0.50   \n",
       "221827      3   过早MORNING  北京市           12       1               1.00   \n",
       "105707      3   北京通州工业开发区  北京市           16       1               0.70   \n",
       "307229      3         北京谷  北京市           16       1               0.20   \n",
       "186022      3        金地中心  北京市          426       1               0.30   \n",
       "120937      3      东铁匠营二小  北京市           16       1               1.00   \n",
       "198117      3        怡和阳光  北京市           34       1               0.30   \n",
       "151069      3        朝阳万达  北京市           42       1               0.35   \n",
       "291300      3     北京南站南进口  北京市          137       1               0.90   \n",
       "111131      3     天雅五金机电城  北京市           51       1               0.65   \n",
       "119463      3        月坛大厦  北京市          430       1               0.30   \n",
       "98092       3      海户路西罗园  北京市           24       0               0.40   \n",
       "\n",
       "        unique_poi_rate  is_filter  \n",
       "13466              1.00          0  \n",
       "12985              1.00          0  \n",
       "6269               0.25          0  \n",
       "2463               1.00          0  \n",
       "3480               1.00          0  \n",
       "1654               1.00          0  \n",
       "13990              1.00          0  \n",
       "3652               0.80          0  \n",
       "3274               1.00          0  \n",
       "9086               0.63          0  \n",
       "9707               1.00          0  \n",
       "5483               1.00          0  \n",
       "13284              0.90          0  \n",
       "1098               1.00          0  \n",
       "3135               0.95          0  \n",
       "12727              1.00          0  \n",
       "2955               0.30          0  \n",
       "6095               0.50          0  \n",
       "2358               1.00          0  \n",
       "13146              1.00          0  \n",
       "569                1.00          0  \n",
       "12639              1.00          0  \n",
       "9732               0.65          0  \n",
       "5400               0.83          0  \n",
       "14449              1.00          0  \n",
       "10305              0.67          0  \n",
       "8765               1.00          0  \n",
       "14350              1.00          0  \n",
       "193                1.00          0  \n",
       "13526              0.75          0  \n",
       "...                 ...        ...  \n",
       "140331             0.85          1  \n",
       "201332             1.00          0  \n",
       "169680             0.90          0  \n",
       "30393              1.00          0  \n",
       "268292             1.00          1  \n",
       "32947              1.00          0  \n",
       "282176             1.00          1  \n",
       "257262             1.00          1  \n",
       "142981             1.00          1  \n",
       "39939              1.00          0  \n",
       "302051             1.00          1  \n",
       "133946             0.95          0  \n",
       "39929              1.00          0  \n",
       "65912              1.00          0  \n",
       "98474              1.00          0  \n",
       "197192             1.00          0  \n",
       "153247             1.00          0  \n",
       "54685              0.85          1  \n",
       "224227             1.00          0  \n",
       "221827             1.00          0  \n",
       "105707             1.00          0  \n",
       "307229             0.75          0  \n",
       "186022             0.95          0  \n",
       "120937             1.00          0  \n",
       "198117             1.00          1  \n",
       "151069             1.00          0  \n",
       "291300             1.00          1  \n",
       "111131             1.00          0  \n",
       "119463             1.00          0  \n",
       "98092              0.95          0  \n",
       "\n",
       "[308193 rows x 8 columns]"
      ]
     },
     "execution_count": 683,
     "metadata": {},
     "output_type": "execute_result"
    }
   ],
   "source": [
    "test"
   ]
  },
  {
   "cell_type": "code",
   "execution_count": 523,
   "metadata": {
    "collapsed": true
   },
   "outputs": [],
   "source": [
    "transformer =TfidfTransformer(norm=u'l2', use_idf=True, smooth_idf=True, sublinear_tf=False)\n",
    "vectorizer=CountVectorizer()#该类会将文本中的词语转换为词频矩阵，矩阵元素a[i][j] 表示j词在i类文本下的词频  \n",
    "sk = SelectKBest(chi2, k=5000)\n",
    "transformer=TfidfTransformer()#该类会统计每个词语的tf-idf权值 \n",
    "clf = svm.SVC()"
   ]
  },
  {
   "cell_type": "code",
   "execution_count": 524,
   "metadata": {
    "collapsed": false
   },
   "outputs": [
    {
     "data": {
      "text/plain": [
       "SVC(C=1.0, cache_size=200, class_weight=None, coef0=0.0,\n",
       "  decision_function_shape=None, degree=3, gamma='auto', kernel='rbf',\n",
       "  max_iter=-1, probability=False, random_state=None, shrinking=True,\n",
       "  tol=0.001, verbose=False)"
      ]
     },
     "execution_count": 524,
     "metadata": {},
     "output_type": "execute_result"
    }
   ],
   "source": [
    "train_X = vectorizer.fit_transform(train['res_data'].values)\n",
    "train_y = train['label'].values\n",
    "# train_chi_X = sk.fit_transform(train_X, train_y)\n",
    "train_chi_X_tfidf=transformer.fit_transform(train_X)#第一个fit_transform是计算tf-idf，第二个fit_transform是将文本转为词频矩阵 \n",
    "clf.fit(train_chi_X_tfidf, train_y)"
   ]
  },
  {
   "cell_type": "code",
   "execution_count": 528,
   "metadata": {
    "collapsed": true
   },
   "outputs": [],
   "source": [
    "test_X = vectorizer.fit_transform(test2['res_data'].values)\n",
    "test_y = test2['label'].values\n",
    "# test_chi_X = sk.fit_transform(test_X, test_y)\n",
    "test_chi_X_tfidf=transformer.fit_transform(test_X)#第一个fit_transform是计算tf-idf，第二个fit_transform是将文本转为词频矩阵"
   ]
  },
  {
   "cell_type": "code",
   "execution_count": 1,
   "metadata": {
    "collapsed": false
   },
   "outputs": [
    {
     "ename": "NameError",
     "evalue": "name 'vectorizer' is not defined",
     "traceback": [
      "\u001b[0;31m---------------------------------------------------------------------------\u001b[0m",
      "\u001b[0;31mNameError\u001b[0m                                 Traceback (most recent call last)",
      "\u001b[0;32m<ipython-input-1-3b0e19029f14>\u001b[0m in \u001b[0;36m<module>\u001b[0;34m()\u001b[0m\n\u001b[0;32m----> 1\u001b[0;31m \u001b[0msdf\u001b[0m \u001b[1;33m=\u001b[0m \u001b[1;33m{\u001b[0m \u001b[0mv\u001b[0m\u001b[1;33m:\u001b[0m\u001b[0mfs\u001b[0m\u001b[1;33m[\u001b[0m\u001b[0mi\u001b[0m\u001b[1;33m]\u001b[0m  \u001b[1;32mfor\u001b[0m \u001b[0mi\u001b[0m\u001b[1;33m,\u001b[0m\u001b[0mv\u001b[0m \u001b[1;32min\u001b[0m \u001b[0menumerate\u001b[0m\u001b[1;33m(\u001b[0m\u001b[0mvectorizer\u001b[0m\u001b[1;33m.\u001b[0m\u001b[0mget_feature_names\u001b[0m\u001b[1;33m(\u001b[0m\u001b[1;33m)\u001b[0m\u001b[1;33m)\u001b[0m\u001b[1;33m}\u001b[0m\u001b[1;33m\u001b[0m\u001b[0m\n\u001b[0m",
      "\u001b[0;31mNameError\u001b[0m: name 'vectorizer' is not defined"
     ],
     "output_type": "error"
    }
   ],
   "source": [
    "sdf = { v:fs[i]  for i,v in enumerate(vectorizer.get_feature_names())}"
   ]
  },
  {
   "cell_type": "code",
   "execution_count": 560,
   "metadata": {
    "collapsed": false
   },
   "outputs": [],
   "source": [
    "fs = np.sum(train_X,axis=0).tolist()[0]"
   ]
  },
  {
   "cell_type": "code",
   "execution_count": 574,
   "metadata": {
    "collapsed": false
   },
   "outputs": [
    {
     "data": {
      "image/png": "[encoded data removed]",
      "text/plain": [
       "<matplotlib.figure.Figure at 0x28e0bf28>"
      ]
     },
     "metadata": {},
     "output_type": "display_data"
    }
   ],
   "source": [
    "my_wordcloud = WordCloud(\n",
    "            colormap='winter', \n",
    "            width=800,\n",
    "            height=800,\n",
    "            background_color='black',    # 设置背景颜色\n",
    "            mask = abel_mask,        # 设置背景图片\n",
    "            max_words = 20,            # 设置最大现实的字数\n",
    "            stopwords = STOPWORDS,        # 设置停用词\n",
    "            font_path = 'C:\\Windows\\Fonts\\simkai.ttf',# 设置字体格式，如不设置显示不了中文\n",
    "            max_font_size = 150,            # 设置字体最大值\n",
    "            random_state = 10,            # 设置有多少种随机生成状态，即有多少种配色方案\n",
    "                scale=0.5\n",
    "                ).generate_from_frequencies(sdf)\n",
    "\n",
    "# 根据图片生成词云颜色\n",
    "image_colors = ImageColorGenerator(abel_mask)\n",
    "# my_wordcloud.recolor(color_func=image_colors)\n",
    "\n",
    "# 以下代码显示图片\n",
    "plt.imshow(my_wordcloud)\n",
    "plt.axis(\"off\")\n",
    "plt.show()"
   ]
  },
  {
   "cell_type": "code",
   "execution_count": 530,
   "metadata": {
    "collapsed": false
   },
   "outputs": [
    {
     "ename": "ValueError",
     "evalue": "X.shape[1] = 12217 should be equal to 68133, the number of features at training time",
     "traceback": [
      "\u001b[0;31m---------------------------------------------------------------------------\u001b[0m",
      "\u001b[0;31mValueError\u001b[0m                                Traceback (most recent call last)",
      "\u001b[0;32m<ipython-input-530-1b58ce017a29>\u001b[0m in \u001b[0;36m<module>\u001b[0;34m()\u001b[0m\n\u001b[0;32m----> 1\u001b[0;31m \u001b[0mclf\u001b[0m\u001b[1;33m.\u001b[0m\u001b[0mpredict\u001b[0m\u001b[1;33m(\u001b[0m\u001b[0mtest_chi_X_tfidf\u001b[0m\u001b[1;33m)\u001b[0m\u001b[1;33m\u001b[0m\u001b[0m\n\u001b[0m",
      "\u001b[0;32mD:\\ProgramData\\Anaconda3\\lib\\site-packages\\sklearn\\svm\\base.py\u001b[0m in \u001b[0;36mpredict\u001b[0;34m(self, X)\u001b[0m\n\u001b[1;32m    571\u001b[0m             \u001b[0mClass\u001b[0m \u001b[0mlabels\u001b[0m \u001b[1;32mfor\u001b[0m \u001b[0msamples\u001b[0m \u001b[1;32min\u001b[0m \u001b[0mX\u001b[0m\u001b[1;33m.\u001b[0m\u001b[1;33m\u001b[0m\u001b[0m\n\u001b[1;32m    572\u001b[0m         \"\"\"\n\u001b[0;32m--> 573\u001b[0;31m         \u001b[0my\u001b[0m \u001b[1;33m=\u001b[0m \u001b[0msuper\u001b[0m\u001b[1;33m(\u001b[0m\u001b[0mBaseSVC\u001b[0m\u001b[1;33m,\u001b[0m \u001b[0mself\u001b[0m\u001b[1;33m)\u001b[0m\u001b[1;33m.\u001b[0m\u001b[0mpredict\u001b[0m\u001b[1;33m(\u001b[0m\u001b[0mX\u001b[0m\u001b[1;33m)\u001b[0m\u001b[1;33m\u001b[0m\u001b[0m\n\u001b[0m\u001b[1;32m    574\u001b[0m         \u001b[1;32mreturn\u001b[0m \u001b[0mself\u001b[0m\u001b[1;33m.\u001b[0m\u001b[0mclasses_\u001b[0m\u001b[1;33m.\u001b[0m\u001b[0mtake\u001b[0m\u001b[1;33m(\u001b[0m\u001b[0mnp\u001b[0m\u001b[1;33m.\u001b[0m\u001b[0masarray\u001b[0m\u001b[1;33m(\u001b[0m\u001b[0my\u001b[0m\u001b[1;33m,\u001b[0m \u001b[0mdtype\u001b[0m\u001b[1;33m=\u001b[0m\u001b[0mnp\u001b[0m\u001b[1;33m.\u001b[0m\u001b[0mintp\u001b[0m\u001b[1;33m)\u001b[0m\u001b[1;33m)\u001b[0m\u001b[1;33m\u001b[0m\u001b[0m\n\u001b[1;32m    575\u001b[0m \u001b[1;33m\u001b[0m\u001b[0m\n",
      "\u001b[0;32mD:\\ProgramData\\Anaconda3\\lib\\site-packages\\sklearn\\svm\\base.py\u001b[0m in \u001b[0;36mpredict\u001b[0;34m(self, X)\u001b[0m\n\u001b[1;32m    308\u001b[0m         \u001b[0my_pred\u001b[0m \u001b[1;33m:\u001b[0m \u001b[0marray\u001b[0m\u001b[1;33m,\u001b[0m \u001b[0mshape\u001b[0m \u001b[1;33m(\u001b[0m\u001b[0mn_samples\u001b[0m\u001b[1;33m,\u001b[0m\u001b[1;33m)\u001b[0m\u001b[1;33m\u001b[0m\u001b[0m\n\u001b[1;32m    309\u001b[0m         \"\"\"\n\u001b[0;32m--> 310\u001b[0;31m         \u001b[0mX\u001b[0m \u001b[1;33m=\u001b[0m \u001b[0mself\u001b[0m\u001b[1;33m.\u001b[0m\u001b[0m_validate_for_predict\u001b[0m\u001b[1;33m(\u001b[0m\u001b[0mX\u001b[0m\u001b[1;33m)\u001b[0m\u001b[1;33m\u001b[0m\u001b[0m\n\u001b[0m\u001b[1;32m    311\u001b[0m         \u001b[0mpredict\u001b[0m \u001b[1;33m=\u001b[0m \u001b[0mself\u001b[0m\u001b[1;33m.\u001b[0m\u001b[0m_sparse_predict\u001b[0m \u001b[1;32mif\u001b[0m \u001b[0mself\u001b[0m\u001b[1;33m.\u001b[0m\u001b[0m_sparse\u001b[0m \u001b[1;32melse\u001b[0m \u001b[0mself\u001b[0m\u001b[1;33m.\u001b[0m\u001b[0m_dense_predict\u001b[0m\u001b[1;33m\u001b[0m\u001b[0m\n\u001b[1;32m    312\u001b[0m         \u001b[1;32mreturn\u001b[0m \u001b[0mpredict\u001b[0m\u001b[1;33m(\u001b[0m\u001b[0mX\u001b[0m\u001b[1;33m)\u001b[0m\u001b[1;33m\u001b[0m\u001b[0m\n",
      "\u001b[0;32mD:\\ProgramData\\Anaconda3\\lib\\site-packages\\sklearn\\svm\\base.py\u001b[0m in \u001b[0;36m_validate_for_predict\u001b[0;34m(self, X)\u001b[0m\n\u001b[1;32m    477\u001b[0m             raise ValueError(\"X.shape[1] = %d should be equal to %d, \"\n\u001b[1;32m    478\u001b[0m                              \u001b[1;34m\"the number of features at training time\"\u001b[0m \u001b[1;33m%\u001b[0m\u001b[1;33m\u001b[0m\u001b[0m\n\u001b[0;32m--> 479\u001b[0;31m                              (n_features, self.shape_fit_[1]))\n\u001b[0m\u001b[1;32m    480\u001b[0m         \u001b[1;32mreturn\u001b[0m \u001b[0mX\u001b[0m\u001b[1;33m\u001b[0m\u001b[0m\n\u001b[1;32m    481\u001b[0m \u001b[1;33m\u001b[0m\u001b[0m\n",
      "\u001b[0;31mValueError\u001b[0m: X.shape[1] = 12217 should be equal to 68133, the number of features at training time"
     ],
     "output_type": "error"
    }
   ],
   "source": [
    "clf.predict(test_chi_X_tfidf)"
   ]
  },
  {
   "cell_type": "code",
   "execution_count": 519,
   "metadata": {
    "collapsed": false
   },
   "outputs": [
    {
     "data": {
      "text/plain": [
       "array([1, 1, 1, ..., 1, 1, 1], dtype=int64)"
      ]
     },
     "execution_count": 519,
     "metadata": {},
     "output_type": "execute_result"
    }
   ],
   "source": [
    "test_y"
   ]
  },
  {
   "cell_type": "code",
   "execution_count": 517,
   "metadata": {
    "collapsed": false
   },
   "outputs": [
    {
     "data": {
      "text/plain": [
       "0.0"
      ]
     },
     "execution_count": 517,
     "metadata": {},
     "output_type": "execute_result"
    }
   ],
   "source": [
    "clf.score(test_chi_X_tfidf,test_y)"
   ]
  },
  {
   "cell_type": "code",
   "execution_count": 217,
   "metadata": {
    "collapsed": false
   },
   "outputs": [
    {
     "name": "stdout",
     "output_type": "stream",
     "text": [
      "['我 来到 北京 清华大学 清华大学', '他 来到 了 网易 杭研 大厦', '小明 硕士 毕业 与 中国 科学院', '我 除此之外 爱 北京 天安门 ']\n"
     ]
    }
   ],
   "source": [
    "corpus=[\"我 来到 北京 清华大学 清华大学\",#第一类文本切词后的结果，词之间以空格隔开  \n",
    "        \"他 来到 了 网易 杭研 大厦\",#第二类文本的切词结果  \n",
    "        \"小明 硕士 毕业 与 中国 科学院\",#第三类文本的切词结果  \n",
    "        \"我 除此之外 爱 北京 天安门 \"]\n",
    "\n",
    "print(corpus)"
   ]
  },
  {
   "cell_type": "code",
   "execution_count": 472,
   "metadata": {
    "collapsed": false
   },
   "outputs": [],
   "source": [
    ""
   ]
  },
  {
   "cell_type": "code",
   "execution_count": 473,
   "metadata": {
    "collapsed": false
   },
   "outputs": [],
   "source": [
    ""
   ]
  },
  {
   "cell_type": "code",
   "execution_count": 474,
   "metadata": {
    "collapsed": false
   },
   "outputs": [
    {
     "data": {
      "text/plain": [
       "SVC(C=1.0, cache_size=200, class_weight=None, coef0=0.0,\n",
       "  decision_function_shape=None, degree=3, gamma='auto', kernel='rbf',\n",
       "  max_iter=-1, probability=False, random_state=None, shrinking=True,\n",
       "  tol=0.001, verbose=False)"
      ]
     },
     "execution_count": 474,
     "metadata": {},
     "output_type": "execute_result"
    }
   ],
   "source": [
    ""
   ]
  },
  {
   "cell_type": "code",
   "execution_count": 476,
   "metadata": {
    "collapsed": false
   },
   "outputs": [],
   "source": [
    "transformer =TfidfTransformer(norm=u'l2', use_idf=True, smooth_idf=True, sublinear_tf=False)\n",
    "vectorizer=CountVectorizer()#该类会将文本中的词语转换为词频矩阵，矩阵元素a[i][j] 表示j词在i类文本下的词频  \n",
    "test_X = vectorizer.fit_transform(test['res_data'].values)\n",
    "test_y = test['label'].values\n",
    "sk = SelectKBest(chi2, k=5000)\n",
    "test_chi_X = sk.fit_transform(test_X, test_y)\n",
    "\n",
    "transformer=TfidfTransformer()#该类会统计每个词语的tf-idf权值  \n",
    "test_chi_X_tfidf=transformer.fit_transform(test_chi_X)#第一个fit_transform是计算tf-idf，第二个fit_transform是将文本转为词频矩阵"
   ]
  },
  {
   "cell_type": "code",
   "execution_count": 477,
   "metadata": {
    "collapsed": false
   },
   "outputs": [
    {
     "data": {
      "text/plain": [
       "array([1, 1, 1, ..., 1, 1, 1], dtype=int64)"
      ]
     },
     "execution_count": 477,
     "metadata": {},
     "output_type": "execute_result"
    }
   ],
   "source": [
    "clf.predict(test_chi_X_tfidf)"
   ]
  },
  {
   "cell_type": "code",
   "execution_count": 479,
   "metadata": {
    "collapsed": false
   },
   "outputs": [
    {
     "data": {
      "text/plain": [
       "0.89831844456121912"
      ]
     },
     "execution_count": 479,
     "metadata": {},
     "output_type": "execute_result"
    }
   ],
   "source": [
    "clf.score(test_chi_X_tfidf,test_y)"
   ]
  },
  {
   "cell_type": "code",
   "execution_count": 456,
   "metadata": {
    "collapsed": false
   },
   "outputs": [],
   "source": [
    "fn_dict = { v:k for k,v in enumerate(vectorizer.get_feature_names())}"
   ]
  },
  {
   "cell_type": "code",
   "execution_count": 464,
   "metadata": {
    "collapsed": false
   },
   "outputs": [
    {
     "data": {
      "text/plain": [
       "51732"
      ]
     },
     "execution_count": 464,
     "metadata": {},
     "output_type": "execute_result"
    }
   ],
   "source": [
    "fn_dict['超市发']"
   ]
  },
  {
   "cell_type": "code",
   "execution_count": 414,
   "metadata": {
    "collapsed": true
   },
   "outputs": [],
   "source": [
    "tfidf=transformer.fit_transform(X_new)#第一个fit_transform是计算tf-idf，第二个fit_transform是将文本转为词频矩阵"
   ]
  },
  {
   "cell_type": "code",
   "execution_count": 415,
   "metadata": {
    "collapsed": false
   },
   "outputs": [
    {
     "data": {
      "text/plain": [
       "array([[ 0.,  0.,  0., ...,  0.,  0.,  0.],\n",
       "       [ 0.,  0.,  0., ...,  0.,  0.,  0.],\n",
       "       [ 0.,  0.,  0., ...,  0.,  0.,  0.],\n",
       "       ..., \n",
       "       [ 0.,  0.,  0., ...,  0.,  0.,  0.],\n",
       "       [ 0.,  0.,  0., ...,  0.,  0.,  0.],\n",
       "       [ 0.,  0.,  0., ...,  0.,  0.,  0.]])"
      ]
     },
     "execution_count": 415,
     "metadata": {},
     "output_type": "execute_result"
    }
   ],
   "source": [
    "tfidf.toarray()"
   ]
  },
  {
   "cell_type": "code",
   "execution_count": 406,
   "metadata": {
    "collapsed": false
   },
   "outputs": [],
   "source": [
    "abel_mask = np.array(Image.open(\"D:\\\\projectlist\\\\logquery\\\\12320927_1342153351898.jpg\"))\n",
    "words = ' '.join(df['res_data'].values)"
   ]
  },
  {
   "cell_type": "code",
   "execution_count": 411,
   "metadata": {
    "collapsed": false
   },
   "outputs": [
    {
     "data": {
      "image/png": "[encoded data removed]",
      "text/plain": [
       "<matplotlib.figure.Figure at 0x2195160>"
      ]
     },
     "metadata": {},
     "output_type": "display_data"
    }
   ],
   "source": [
    "my_wordcloud = WordCloud(\n",
    "            width=800,\n",
    "            height=800,\n",
    "            background_color='black',    # 设置背景颜色\n",
    "            mask = abel_mask,        # 设置背景图片\n",
    "            max_words = 100,            # 设置最大现实的字数\n",
    "            stopwords = STOPWORDS,        # 设置停用词\n",
    "            font_path = 'C:\\Windows\\Fonts\\simkai.ttf',# 设置字体格式，如不设置显示不了中文\n",
    "            max_font_size = 150,            # 设置字体最大值\n",
    "            random_state = 100,            # 设置有多少种随机生成状态，即有多少种配色方案\n",
    "                scale=0.5\n",
    "                ).generate(words)\n",
    "\n",
    "# 根据图片生成词云颜色\n",
    "image_colors = ImageColorGenerator(abel_mask)\n",
    "# my_wordcloud.recolor(color_func=image_colors)\n",
    "\n",
    "# 以下代码显示图片\n",
    "plt.imshow(my_wordcloud)\n",
    "plt.axis(\"off\")\n",
    "plt.show()"
   ]
  },
  {
   "cell_type": "code",
   "execution_count": null,
   "metadata": {
    "collapsed": true
   },
   "outputs": [],
   "source": [
    ""
   ]
  },
  {
   "cell_type": "code",
   "execution_count": 34,
   "metadata": {
    "collapsed": true
   },
   "outputs": [],
   "source": [
    "jieba.set_dictionary('D:\\word\\dict\\\\words.freq.new')"
   ]
  },
  {
   "cell_type": "code",
   "execution_count": 35,
   "metadata": {
    "collapsed": false
   },
   "outputs": [],
   "source": [
    "def cut_line(test_term):\n",
    "    seg_list = jieba.cut(test_term, cut_all=False)\n",
    "    return \" \".join(seg_list)"
   ]
  },
  {
   "cell_type": "code",
   "execution_count": 43,
   "metadata": {
    "collapsed": false
   },
   "outputs": [],
   "source": [
    "df['data']=df['data'].apply(func=cut_line)"
   ]
  },
  {
   "cell_type": "code",
   "execution_count": 59,
   "metadata": {
    "collapsed": false
   },
   "outputs": [],
   "source": [
    "from sklearn.feature_extraction.text import TfidfTransformer\n",
    "from sklearn.feature_extraction.text import CountVectorizer"
   ]
  },
  {
   "cell_type": "code",
   "execution_count": 60,
   "metadata": {
    "collapsed": false
   },
   "outputs": [],
   "source": [
    ""
   ]
  },
  {
   "cell_type": "code",
   "execution_count": 66,
   "metadata": {
    "collapsed": false
   },
   "outputs": [],
   "source": [
    "tfidf =TfidfTransformer(norm=u'l2', use_idf=True, smooth_idf=True, sublinear_tf=False)\n",
    "vectorizer=CountVectorizer()#该类会将文本中的词语转换为词频矩阵，矩阵元素a[i][j] 表示j词在i类文本下的词频  \n",
    "transformer=TfidfTransformer()#该类会统计每个词语的tf-idf权值  \n",
    "tfidf=transformer.fit_transform(vectorizer.fit_transform(df['data'].values))#第一个fit_transform是计算tf-idf，第二个fit_transform是将文本转为词频矩阵"
   ]
  },
  {
   "cell_type": "code",
   "execution_count": 67,
   "metadata": {
    "collapsed": false
   },
   "outputs": [],
   "source": [
    "word=vectorizer.get_feature_names()#获取词袋模型中的所有词语"
   ]
  },
  {
   "cell_type": "code",
   "execution_count": 115,
   "metadata": {
    "collapsed": true
   },
   "outputs": [],
   "source": [
    "import csv"
   ]
  },
  {
   "cell_type": "code",
   "execution_count": 116,
   "metadata": {
    "collapsed": false
   },
   "outputs": [],
   "source": [
    "stop_word = pd.read_csv('D:\\\\pythonwork\\\\query-analyze\\\\docs\\\\stopWords',encoding='gb18030',quoting=csv.QUOTE_NONE,names=['stop_word'])"
   ]
  },
  {
   "cell_type": "code",
   "execution_count": 134,
   "metadata": {
    "collapsed": true
   },
   "outputs": [],
   "source": [
    "sw = stop_word['stop_word'].values.tolist()"
   ]
  },
  {
   "cell_type": "code",
   "execution_count": 293,
   "metadata": {
    "collapsed": false
   },
   "outputs": [],
   "source": [
    "vectorizer=CountVectorizer(analyzer='word',stop_words=sw)#该类会将文本中的词语转换为词频矩阵，矩阵元素a[i][j] 表示j词在i类文本下的词频  \n",
    "\n",
    "\n",
    "X = vectorizer.fit_transform(df['data'].values)"
   ]
  },
  {
   "cell_type": "code",
   "execution_count": 294,
   "metadata": {
    "collapsed": false
   },
   "outputs": [
    {
     "data": {
      "text/plain": [
       "array([[0, 0, 0, ..., 0, 0, 0],\n",
       "       [0, 0, 0, ..., 0, 0, 0],\n",
       "       [0, 0, 0, ..., 0, 0, 0],\n",
       "       ..., \n",
       "       [0, 0, 0, ..., 0, 0, 0],\n",
       "       [0, 0, 0, ..., 0, 0, 0],\n",
       "       [0, 0, 0, ..., 0, 0, 0]], dtype=int64)"
      ]
     },
     "execution_count": 294,
     "metadata": {},
     "output_type": "execute_result"
    }
   ],
   "source": [
    "X.toarray()"
   ]
  },
  {
   "cell_type": "code",
   "execution_count": 295,
   "metadata": {
    "collapsed": false
   },
   "outputs": [],
   "source": [
    "transformer=TfidfTransformer(norm='l2', use_idf=True, smooth_idf=True, sublinear_tf=False)#该类会统计每个词语的tf-idf权值  \n",
    "tfidf=transformer.fit_transform(X)#第一个fit_transform是计算tf-idf，第二个fit_transform是将文本转为词频矩阵"
   ]
  },
  {
   "cell_type": "code",
   "execution_count": 299,
   "metadata": {
    "collapsed": true
   },
   "outputs": [],
   "source": [
    "y = df['label'].values"
   ]
  },
  {
   "cell_type": "code",
   "execution_count": 300,
   "metadata": {
    "collapsed": false
   },
   "outputs": [
    {
     "data": {
      "text/plain": [
       "array([1, 1, 1, ..., 2, 2, 2], dtype=int64)"
      ]
     },
     "execution_count": 300,
     "metadata": {},
     "output_type": "execute_result"
    }
   ],
   "source": [
    "y"
   ]
  },
  {
   "cell_type": "code",
   "execution_count": 311,
   "metadata": {
    "collapsed": false
   },
   "outputs": [],
   "source": [
    "skb = SelectKBest(chi2, k=10000)"
   ]
  },
  {
   "cell_type": "code",
   "execution_count": 328,
   "metadata": {
    "collapsed": false
   },
   "outputs": [],
   "source": [
    "X_new = skb.fit_transform(X, y)"
   ]
  },
  {
   "cell_type": "code",
   "execution_count": 329,
   "metadata": {
    "collapsed": false
   },
   "outputs": [
    {
     "data": {
      "text/plain": [
       "<19028x10000 sparse matrix of type '<class 'numpy.int64'>'\n",
       "\twith 155753 stored elements in Compressed Sparse Row format>"
      ]
     },
     "execution_count": 329,
     "metadata": {},
     "output_type": "execute_result"
    }
   ],
   "source": [
    "X_new"
   ]
  },
  {
   "cell_type": "code",
   "execution_count": 313,
   "metadata": {
    "collapsed": false
   },
   "outputs": [
    {
     "data": {
      "text/plain": [
       "array([[0, 0, 0, ..., 0, 0, 0],\n",
       "       [0, 0, 0, ..., 0, 0, 0],\n",
       "       [0, 0, 0, ..., 0, 0, 0],\n",
       "       ..., \n",
       "       [0, 0, 0, ..., 0, 0, 0],\n",
       "       [0, 0, 0, ..., 0, 0, 0],\n",
       "       [0, 0, 0, ..., 0, 0, 0]], dtype=int64)"
      ]
     },
     "execution_count": 313,
     "metadata": {},
     "output_type": "execute_result"
    }
   ],
   "source": [
    "X_new.toarray()"
   ]
  },
  {
   "cell_type": "code",
   "execution_count": 280,
   "metadata": {
    "collapsed": false
   },
   "outputs": [],
   "source": [
    "from sklearn.feature_selection import chi2\n",
    "from sklearn.feature_selection import SelectKBest"
   ]
  },
  {
   "cell_type": "code",
   "execution_count": 281,
   "metadata": {
    "collapsed": true
   },
   "outputs": [],
   "source": [
    "from sklearn.datasets import load_iris"
   ]
  },
  {
   "cell_type": "code",
   "execution_count": 323,
   "metadata": {
    "collapsed": false
   },
   "outputs": [],
   "source": [
    "iris = load_iris()\n",
    "X1, y1 = iris.data, iris.target"
   ]
  },
  {
   "cell_type": "code",
   "execution_count": 324,
   "metadata": {
    "collapsed": false
   },
   "outputs": [
    {
     "data": {
      "text/plain": [
       "array([0, 0, 0, 0, 0, 0, 0, 0, 0, 0, 0, 0, 0, 0, 0, 0, 0, 0, 0, 0, 0, 0, 0,\n",
       "       0, 0, 0, 0, 0, 0, 0, 0, 0, 0, 0, 0, 0, 0, 0, 0, 0, 0, 0, 0, 0, 0, 0,\n",
       "       0, 0, 0, 0, 1, 1, 1, 1, 1, 1, 1, 1, 1, 1, 1, 1, 1, 1, 1, 1, 1, 1, 1,\n",
       "       1, 1, 1, 1, 1, 1, 1, 1, 1, 1, 1, 1, 1, 1, 1, 1, 1, 1, 1, 1, 1, 1, 1,\n",
       "       1, 1, 1, 1, 1, 1, 1, 1, 2, 2, 2, 2, 2, 2, 2, 2, 2, 2, 2, 2, 2, 2, 2,\n",
       "       2, 2, 2, 2, 2, 2, 2, 2, 2, 2, 2, 2, 2, 2, 2, 2, 2, 2, 2, 2, 2, 2, 2,\n",
       "       2, 2, 2, 2, 2, 2, 2, 2, 2, 2, 2, 2])"
      ]
     },
     "execution_count": 324,
     "metadata": {},
     "output_type": "execute_result"
    }
   ],
   "source": [
    "y1"
   ]
  },
  {
   "cell_type": "code",
   "execution_count": 284,
   "metadata": {
    "collapsed": true
   },
   "outputs": [],
   "source": [
    "X_new = SelectKBest(chi2, k=2).fit_transform(X, y)"
   ]
  },
  {
   "cell_type": "code",
   "execution_count": 330,
   "metadata": {
    "collapsed": false
   },
   "outputs": [],
   "source": [
    "import matplotlib.pyplot as plt\n",
    "from wordcloud import WordCloud,ImageColorGenerator,STOPWORDS"
   ]
  },
  {
   "cell_type": "code",
   "execution_count": 332,
   "metadata": {
    "collapsed": true
   },
   "outputs": [],
   "source": [
    "from PIL import Image"
   ]
  },
  {
   "cell_type": "code",
   "execution_count": 333,
   "metadata": {
    "collapsed": false
   },
   "outputs": [],
   "source": [
    "abel_mask = np.array(Image.open(\"D:\\\\structure\\\\query\\\\12320927_1342153351898.jpg\"))"
   ]
  },
  {
   "cell_type": "code",
   "execution_count": 352,
   "metadata": {
    "collapsed": false
   },
   "outputs": [],
   "source": [
    "words = ' '.join(df['data'].values)"
   ]
  },
  {
   "cell_type": "code",
   "execution_count": null,
   "metadata": {
    "collapsed": true
   },
   "outputs": [],
   "source": [
    "plt.fg"
   ]
  },
  {
   "cell_type": "code",
   "execution_count": 355,
   "metadata": {
    "collapsed": false
   },
   "outputs": [
    {
     "data": {
      "image/png": "[encoded data removed]",
      "text/plain": [
       "<matplotlib.figure.Figure at 0x336f1e10>"
      ]
     },
     "metadata": {},
     "output_type": "display_data"
    }
   ],
   "source": [
    "my_wordcloud = WordCloud(\n",
    "            background_color='black',    # 设置背景颜色\n",
    "            mask = abel_mask,        # 设置背景图片\n",
    "            max_words = 100,            # 设置最大现实的字数\n",
    "            stopwords = STOPWORDS,        # 设置停用词\n",
    "            font_path = 'C:\\Windows\\Fonts\\simkai.ttf',# 设置字体格式，如不设置显示不了中文\n",
    "            max_font_size = 150,            # 设置字体最大值\n",
    "            random_state = 50,            # 设置有多少种随机生成状态，即有多少种配色方案\n",
    "                scale=.5\n",
    "                ).generate(words)\n",
    "\n",
    "# 根据图片生成词云颜色\n",
    "image_colors = ImageColorGenerator(abel_mask)\n",
    "#my_wordcloud.recolor(color_func=image_colors)\n",
    "\n",
    "# 以下代码显示图片\n",
    "plt.imshow(my_wordcloud)\n",
    "plt.axis(\"off\")\n",
    "plt.show()"
   ]
  },
  {
   "cell_type": "code",
   "execution_count": null,
   "metadata": {
    "collapsed": true
   },
   "outputs": [],
   "source": [
    ""
   ]
  }
 ],
 "metadata": {
  "kernelspec": {
   "display_name": "Python 3",
   "language": "python",
   "name": "python3"
  },
  "language_info": {
   "codemirror_mode": {
    "name": "ipython",
    "version": 3.0
   },
   "file_extension": ".py",
   "mimetype": "text/x-python",
   "name": "python",
   "nbconvert_exporter": "python",
   "pygments_lexer": "ipython3",
   "version": "3.6.0"
  }
 },
 "nbformat": 4,
 "nbformat_minor": 0
}